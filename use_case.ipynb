{
 "cells": [
  {
   "cell_type": "code",
   "execution_count": null,
   "metadata": {},
   "outputs": [],
   "source": [
    "import tensorflow as tf\n",
    "import numpy as np\n",
    "from matplotlib import pyplot as plt\n",
    "from scipy.stats import pearsonr\n",
    "from numpy.typing import NDArray\n",
    "from gc import collect"
   ]
  },
  {
   "cell_type": "code",
   "execution_count": null,
   "metadata": {},
   "outputs": [],
   "source": [
    "from cmcut.Scorer import Scorer\n",
    "%load_ext autoreload"
   ]
  },
  {
   "cell_type": "code",
   "execution_count": null,
   "metadata": {},
   "outputs": [],
   "source": [
    "%autoreload 2\n",
    "collect()\n",
    "model_names = list()\n",
    "# range(2) - only 2 models for testing\n",
    "for i in range(5):\n",
    "    name = 'cifar10/models/cifar_model_' + str(i) + '.h5'\n",
    "    model_names.append(name)\n",
    "_, (test_images, test_labels) = tf.keras.datasets.cifar10.load_data()"
   ]
  },
  {
   "cell_type": "code",
   "execution_count": null,
   "metadata": {},
   "outputs": [],
   "source": [
    "%autoreload 2\n",
    "from time import time\n",
    "s = Scorer(model_names, \n",
    "           test_images, \n",
    "           test_labels)\n",
    "a = time()\n",
    "x = s.score_multiple_layers(['conv2d'])\n",
    "a = time() - a\n",
    "print(a)"
   ]
  }
 ],
 "metadata": {
  "kernelspec": {
   "display_name": "dl",
   "language": "python",
   "name": "python3"
  },
  "language_info": {
   "codemirror_mode": {
    "name": "ipython",
    "version": 3
   },
   "file_extension": ".py",
   "mimetype": "text/x-python",
   "name": "python",
   "nbconvert_exporter": "python",
   "pygments_lexer": "ipython3",
   "version": "3.10.8"
  },
  "orig_nbformat": 4,
  "vscode": {
   "interpreter": {
    "hash": "d86f111616862d19b4a31c0f57fe36c2d6f8663b0bf9b53456006ede2cf812e8"
   }
  }
 },
 "nbformat": 4,
 "nbformat_minor": 2
}
