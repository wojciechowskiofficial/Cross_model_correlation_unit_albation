{
 "cells": [
  {
   "cell_type": "code",
   "execution_count": 1,
   "metadata": {},
   "outputs": [
    {
     "name": "stderr",
     "output_type": "stream",
     "text": [
      "2023-01-11 13:30:48.468156: I tensorflow/core/platform/cpu_feature_guard.cc:193] This TensorFlow binary is optimized with oneAPI Deep Neural Network Library (oneDNN) to use the following CPU instructions in performance-critical operations:  SSE4.1 SSE4.2 AVX AVX2 FMA\n",
      "To enable them in other operations, rebuild TensorFlow with the appropriate compiler flags.\n"
     ]
    }
   ],
   "source": [
    "import tensorflow as tf\n",
    "import numpy as np\n",
    "from matplotlib import pyplot as plt\n",
    "from scipy.stats import pearsonr\n",
    "from numpy.typing import NDArray"
   ]
  },
  {
   "cell_type": "code",
   "execution_count": 2,
   "metadata": {},
   "outputs": [],
   "source": [
    "class Scorer:\n",
    "    \n",
    "    def __init__(self, \n",
    "                 model_names: list[str], \n",
    "                 images: NDArray[np.float32], \n",
    "                 labels: NDArray[np.uint8]) -> None:\n",
    "        self.model_names = model_names\n",
    "        self.images, self.labels = images, labels\n",
    "        # load models\n",
    "        self.base_models = list()\n",
    "        for m_name in self.model_names:\n",
    "            self.base_models.append(tf.keras.models.load_model(m_name))\n",
    "            \n",
    "    def score_layer(self, \n",
    "                    layer_name: str, \n",
    "                    preds: list[NDArray[np.float32]]) -> list[float]:\n",
    "        scores = list()\n",
    "        for score in range(32):\n",
    "            print(score, end='\\r', flush=True)\n",
    "            per_channel_corr = list()\n",
    "            for prediction in preds[1:]:\n",
    "                for channel in range(32):\n",
    "                    first, second = list(), list()\n",
    "                    for i in range(self.images.shape[0]):\n",
    "                        # 0th model (the one that is being scored)\n",
    "                        first.append(np.linalg.norm(preds[0][i,:,:,score]))\n",
    "                        # 1..nth model\n",
    "                        second.append(np.linalg.norm(prediction[i,:,:,channel]))\n",
    "                    per_channel_corr.append(pearsonr(first, second)[0])\n",
    "            scores.append(max(per_channel_corr))\n",
    "        return scores\n",
    "\n",
    "    def score_multiple_layers(self, \n",
    "                              layers: list[str]) -> dict[str, list[float]]:\n",
    "        scores = dict()\n",
    "        for layer_name in layers:\n",
    "            # create intermediate models\n",
    "            inter_models = list()\n",
    "            for i in range(len(self.model_names)):\n",
    "                input_layer = self.base_models[i].input\n",
    "                output_layer = self.base_models[i].get_layer(layer_name).output\n",
    "                inter_models.append(tf.keras.Model(inputs=input_layer, \n",
    "                                                   outputs=output_layer))\n",
    "            # compute itermediate predictions\n",
    "            preds = list()\n",
    "            for i in range(len(self.model_names)):\n",
    "                preds.append(inter_models[i].predict(test_images))\n",
    "            scores[layer_name] = self.score_layer(layer_name, preds)\n",
    "        return scores"
   ]
  },
  {
   "cell_type": "code",
   "execution_count": 3,
   "metadata": {},
   "outputs": [
    {
     "name": "stderr",
     "output_type": "stream",
     "text": [
      "2023-01-11 12:52:40.880973: I tensorflow/core/platform/cpu_feature_guard.cc:193] This TensorFlow binary is optimized with oneAPI Deep Neural Network Library (oneDNN) to use the following CPU instructions in performance-critical operations:  SSE4.1 SSE4.2 AVX AVX2 FMA\n",
      "To enable them in other operations, rebuild TensorFlow with the appropriate compiler flags.\n",
      "2023-01-11 12:52:40.882733: I tensorflow/core/common_runtime/process_util.cc:146] Creating new thread pool with default inter op setting: 2. Tune using inter_op_parallelism_threads for best performance.\n"
     ]
    },
    {
     "name": "stdout",
     "output_type": "stream",
     "text": [
      "313/313 [==============================] - 1s 4ms/step\n",
      "313/313 [==============================] - 1s 3ms/step\n",
      "313/313 [==============================] - 1s 4ms/step\n",
      "313/313 [==============================] - 1s 3ms/step\n",
      "313/313 [==============================] - 1s 3ms/step\n",
      "313/313 [==============================] - 3s 8ms/step\n",
      "313/313 [==============================] - 2s 7ms/step\n",
      "313/313 [==============================] - 2s 8ms/step\n",
      "313/313 [==============================] - 3s 8ms/step\n",
      "313/313 [==============================] - 3s 9ms/step\n",
      "31\r"
     ]
    }
   ],
   "source": [
    "model_names = list()\n",
    "for i in range(5):\n",
    "    name = 'cifar10/models/cifar_model_' + str(i) + '.h5'\n",
    "    model_names.append(name)\n",
    "_, (test_images, test_labels) = tf.keras.datasets.cifar10.load_data()\n",
    "s = Scorer(model_names, \n",
    "           test_images, \n",
    "           test_labels)\n",
    "x = s.score_multiple_layers(['conv2d', 'conv2d_1'])\n",
    "# TODO: change channel count from 32 to [-1]"
   ]
  }
 ],
 "metadata": {
  "kernelspec": {
   "display_name": "dl",
   "language": "python",
   "name": "python3"
  },
  "language_info": {
   "codemirror_mode": {
    "name": "ipython",
    "version": 3
   },
   "file_extension": ".py",
   "mimetype": "text/x-python",
   "name": "python",
   "nbconvert_exporter": "python",
   "pygments_lexer": "ipython3",
   "version": "3.10.8 (main, Nov 24 2022, 14:13:03) [GCC 11.2.0]"
  },
  "orig_nbformat": 4,
  "vscode": {
   "interpreter": {
    "hash": "d86f111616862d19b4a31c0f57fe36c2d6f8663b0bf9b53456006ede2cf812e8"
   }
  }
 },
 "nbformat": 4,
 "nbformat_minor": 2
}
