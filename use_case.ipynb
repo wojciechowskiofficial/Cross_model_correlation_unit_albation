{
 "cells": [
  {
   "cell_type": "code",
   "execution_count": 1,
   "metadata": {},
   "outputs": [
    {
     "name": "stderr",
     "output_type": "stream",
     "text": [
      "2023-01-13 13:30:14.706523: I tensorflow/core/platform/cpu_feature_guard.cc:193] This TensorFlow binary is optimized with oneAPI Deep Neural Network Library (oneDNN) to use the following CPU instructions in performance-critical operations:  SSE4.1 SSE4.2 AVX AVX2 FMA\n",
      "To enable them in other operations, rebuild TensorFlow with the appropriate compiler flags.\n"
     ]
    }
   ],
   "source": [
    "import tensorflow as tf\n",
    "import numpy as np\n",
    "from matplotlib import pyplot as plt\n",
    "from scipy.stats import pearsonr\n",
    "from numpy.typing import NDArray"
   ]
  },
  {
   "cell_type": "code",
   "execution_count": 2,
   "metadata": {},
   "outputs": [],
   "source": [
    "class Scorer:\n",
    "    \n",
    "    def __init__(self, \n",
    "                 model_names: list[str], \n",
    "                 images: NDArray[np.float32], \n",
    "                 labels: NDArray[np.uint8]) -> None:\n",
    "        self.model_names = model_names\n",
    "        self.images, self.labels = images, labels\n",
    "        # load models\n",
    "        self.base_models = list()\n",
    "        for m_name in self.model_names:\n",
    "            self.base_models.append(tf.keras.models.load_model(m_name))\n",
    "            \n",
    "    def score_layer(self, \n",
    "                    layer_name: str, \n",
    "                    preds: list[NDArray[np.float32]]) -> list[float]:\n",
    "        scores = list()\n",
    "        no_channels = preds[0][-1]\n",
    "        for score in range(no_channels):\n",
    "            print(score, end='\\r', flush=True)\n",
    "            per_channel_corr = list()\n",
    "            for prediction in preds[1:]:\n",
    "                for channel in range(no_channels):\n",
    "                    first, second = list(), list()\n",
    "                    for i in range(self.images.shape[0]):\n",
    "                        # 0th model (the one that is being scored)\n",
    "                        first.append(np.linalg.norm(preds[0][i,:,:,score]))\n",
    "                        # 1..nth model\n",
    "                        second.append(np.linalg.norm(prediction[i,:,:,channel]))\n",
    "                    per_channel_corr.append(pearsonr(first, second)[0])\n",
    "            scores.append(max(per_channel_corr))\n",
    "        return scores\n",
    "\n",
    "    def score_multiple_layers(self, \n",
    "                              layers: list[str]) -> dict[str, list[float]]:\n",
    "        scores = dict()\n",
    "        for layer_name in layers:\n",
    "            # create intermediate models\n",
    "            inter_models = list()\n",
    "            for i in range(len(self.model_names)):\n",
    "                input_layer = self.base_models[i].input\n",
    "                output_layer = self.base_models[i].get_layer(layer_name).output\n",
    "                inter_models.append(tf.keras.Model(inputs=input_layer, \n",
    "                                                   outputs=output_layer))\n",
    "            # compute itermediate predictions\n",
    "            preds = list()\n",
    "            for i in range(len(self.model_names)):\n",
    "                preds.append(inter_models[i].predict(test_images))\n",
    "            scores[layer_name] = self.score_layer(layer_name, preds)\n",
    "        return scores"
   ]
  },
  {
   "cell_type": "code",
   "execution_count": 3,
   "metadata": {},
   "outputs": [
    {
     "name": "stderr",
     "output_type": "stream",
     "text": [
      "2023-01-13 13:30:18.392091: I tensorflow/core/platform/cpu_feature_guard.cc:193] This TensorFlow binary is optimized with oneAPI Deep Neural Network Library (oneDNN) to use the following CPU instructions in performance-critical operations:  SSE4.1 SSE4.2 AVX AVX2 FMA\n",
      "To enable them in other operations, rebuild TensorFlow with the appropriate compiler flags.\n",
      "2023-01-13 13:30:18.393113: I tensorflow/core/common_runtime/process_util.cc:146] Creating new thread pool with default inter op setting: 2. Tune using inter_op_parallelism_threads for best performance.\n"
     ]
    },
    {
     "name": "stdout",
     "output_type": "stream",
     "text": [
      "313/313 [==============================] - 1s 4ms/step\n",
      "313/313 [==============================] - 1s 3ms/step\n"
     ]
    },
    {
     "ename": "TypeError",
     "evalue": "only integer scalar arrays can be converted to a scalar index",
     "output_type": "error",
     "traceback": [
      "\u001b[0;31m---------------------------------------------------------------------------\u001b[0m",
      "\u001b[0;31mTypeError\u001b[0m                                 Traceback (most recent call last)",
      "Cell \u001b[0;32mIn [3], line 10\u001b[0m\n\u001b[1;32m      6\u001b[0m _, (test_images, test_labels) \u001b[39m=\u001b[39m tf\u001b[39m.\u001b[39mkeras\u001b[39m.\u001b[39mdatasets\u001b[39m.\u001b[39mcifar10\u001b[39m.\u001b[39mload_data()\n\u001b[1;32m      7\u001b[0m s \u001b[39m=\u001b[39m Scorer(model_names, \n\u001b[1;32m      8\u001b[0m            test_images, \n\u001b[1;32m      9\u001b[0m            test_labels)\n\u001b[0;32m---> 10\u001b[0m x \u001b[39m=\u001b[39m s\u001b[39m.\u001b[39;49mscore_multiple_layers([\u001b[39m'\u001b[39;49m\u001b[39mconv2d\u001b[39;49m\u001b[39m'\u001b[39;49m, \u001b[39m'\u001b[39;49m\u001b[39mconv2d_1\u001b[39;49m\u001b[39m'\u001b[39;49m])\n",
      "Cell \u001b[0;32mIn [2], line 48\u001b[0m, in \u001b[0;36mScorer.score_multiple_layers\u001b[0;34m(self, layers)\u001b[0m\n\u001b[1;32m     46\u001b[0m     \u001b[39mfor\u001b[39;00m i \u001b[39min\u001b[39;00m \u001b[39mrange\u001b[39m(\u001b[39mlen\u001b[39m(\u001b[39mself\u001b[39m\u001b[39m.\u001b[39mmodel_names)):\n\u001b[1;32m     47\u001b[0m         preds\u001b[39m.\u001b[39mappend(inter_models[i]\u001b[39m.\u001b[39mpredict(test_images))\n\u001b[0;32m---> 48\u001b[0m     scores[layer_name] \u001b[39m=\u001b[39m \u001b[39mself\u001b[39;49m\u001b[39m.\u001b[39;49mscore_layer(layer_name, preds)\n\u001b[1;32m     49\u001b[0m \u001b[39mreturn\u001b[39;00m scores\n",
      "Cell \u001b[0;32mIn [2], line 18\u001b[0m, in \u001b[0;36mScorer.score_layer\u001b[0;34m(self, layer_name, preds)\u001b[0m\n\u001b[1;32m     14\u001b[0m \u001b[39mdef\u001b[39;00m \u001b[39mscore_layer\u001b[39m(\u001b[39mself\u001b[39m, \n\u001b[1;32m     15\u001b[0m                 layer_name: \u001b[39mstr\u001b[39m, \n\u001b[1;32m     16\u001b[0m                 preds: \u001b[39mlist\u001b[39m[NDArray[np\u001b[39m.\u001b[39mfloat32]]) \u001b[39m-\u001b[39m\u001b[39m>\u001b[39m \u001b[39mlist\u001b[39m[\u001b[39mfloat\u001b[39m]:\n\u001b[1;32m     17\u001b[0m     scores \u001b[39m=\u001b[39m \u001b[39mlist\u001b[39m()\n\u001b[0;32m---> 18\u001b[0m     \u001b[39mfor\u001b[39;00m score \u001b[39min\u001b[39;00m \u001b[39mrange\u001b[39;49m(preds[\u001b[39m-\u001b[39;49m\u001b[39m1\u001b[39;49m]):\n\u001b[1;32m     19\u001b[0m         \u001b[39mprint\u001b[39m(score, end\u001b[39m=\u001b[39m\u001b[39m'\u001b[39m\u001b[39m\\r\u001b[39;00m\u001b[39m'\u001b[39m, flush\u001b[39m=\u001b[39m\u001b[39mTrue\u001b[39;00m)\n\u001b[1;32m     20\u001b[0m         per_channel_corr \u001b[39m=\u001b[39m \u001b[39mlist\u001b[39m()\n",
      "\u001b[0;31mTypeError\u001b[0m: only integer scalar arrays can be converted to a scalar index"
     ]
    }
   ],
   "source": [
    "model_names = list()\n",
    "# range(2) - only 2 models for testing\n",
    "for i in range(2):\n",
    "    name = 'cifar10/models/cifar_model_' + str(i) + '.h5'\n",
    "    model_names.append(name)\n",
    "_, (test_images, test_labels) = tf.keras.datasets.cifar10.load_data()\n",
    "s = Scorer(model_names, \n",
    "           test_images, \n",
    "           test_labels)\n",
    "x = s.score_multiple_layers(['conv2d', 'conv2d_1'])"
   ]
  }
 ],
 "metadata": {
  "kernelspec": {
   "display_name": "dl",
   "language": "python",
   "name": "python3"
  },
  "language_info": {
   "codemirror_mode": {
    "name": "ipython",
    "version": 3
   },
   "file_extension": ".py",
   "mimetype": "text/x-python",
   "name": "python",
   "nbconvert_exporter": "python",
   "pygments_lexer": "ipython3",
   "version": "3.10.8"
  },
  "orig_nbformat": 4,
  "vscode": {
   "interpreter": {
    "hash": "d86f111616862d19b4a31c0f57fe36c2d6f8663b0bf9b53456006ede2cf812e8"
   }
  }
 },
 "nbformat": 4,
 "nbformat_minor": 2
}
