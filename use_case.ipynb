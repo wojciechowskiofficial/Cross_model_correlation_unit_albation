{
 "cells": [
  {
   "cell_type": "code",
   "execution_count": 1,
   "metadata": {},
   "outputs": [
    {
     "name": "stderr",
     "output_type": "stream",
     "text": [
      "2023-01-14 11:51:19.123242: I tensorflow/core/platform/cpu_feature_guard.cc:193] This TensorFlow binary is optimized with oneAPI Deep Neural Network Library (oneDNN) to use the following CPU instructions in performance-critical operations:  SSE4.1 SSE4.2 AVX AVX2 FMA\n",
      "To enable them in other operations, rebuild TensorFlow with the appropriate compiler flags.\n"
     ]
    }
   ],
   "source": [
    "import tensorflow as tf\n",
    "import numpy as np\n",
    "from matplotlib import pyplot as plt\n",
    "from scipy.stats import pearsonr\n",
    "from numpy.typing import NDArray\n",
    "from gc import collect"
   ]
  },
  {
   "cell_type": "code",
   "execution_count": 2,
   "metadata": {},
   "outputs": [],
   "source": [
    "from cmcut.Scorer import Scorer\n",
    "%load_ext autoreload"
   ]
  },
  {
   "cell_type": "code",
   "execution_count": 3,
   "metadata": {},
   "outputs": [],
   "source": [
    "%autoreload 2\n",
    "collect()\n",
    "model_names = list()\n",
    "# range(2) - only 2 models for testing\n",
    "for i in range(5):\n",
    "    name = 'cifar10/models/cifar_model_' + str(i) + '.h5'\n",
    "    model_names.append(name)\n",
    "_, (test_images, test_labels) = tf.keras.datasets.cifar10.load_data()"
   ]
  },
  {
   "cell_type": "code",
   "execution_count": 4,
   "metadata": {},
   "outputs": [
    {
     "name": "stdout",
     "output_type": "stream",
     "text": [
      "293.8459553718567ing layer conv2d\n"
     ]
    }
   ],
   "source": [
    "%autoreload 2\n",
    "from time import time\n",
    "s = Scorer(model_names, \n",
    "           test_images, \n",
    "           test_labels)\n",
    "a = time()\n",
    "x = s.score_layers('conv2d')\n",
    "a = time() - a\n",
    "print(a)"
   ]
  },
  {
   "cell_type": "code",
   "execution_count": 5,
   "metadata": {},
   "outputs": [
    {
     "data": {
      "text/plain": [
       "[0.9517321419967777,\n",
       " 0.9552966771330991,\n",
       " 0.9667764060347119,\n",
       " 0.9935892811923119,\n",
       " 0.9528075518571537,\n",
       " 0.9386031388481426,\n",
       " 0.9268801886069903,\n",
       " 0.9828570190524151,\n",
       " 0.9636725521444183,\n",
       " 0.9773569296504783,\n",
       " 0.9980840931836579,\n",
       " 0.8916963805582192,\n",
       " 0.8134268867067072,\n",
       " 0.9974499859574881,\n",
       " 0.9790468204355609,\n",
       " 0.9272087197502408,\n",
       " 0.9758048789020675,\n",
       " 0.9647295158161596,\n",
       " 0.9373123175723208,\n",
       " 0.922626073832621,\n",
       " 0.9397695395805228,\n",
       " 0.9618026816318038,\n",
       " 0.911396236123204,\n",
       " 0.9018952158380871,\n",
       " 0.9171074955887262,\n",
       " 0.9127737053910556,\n",
       " 0.9801761265375959,\n",
       " 0.9100715776201391,\n",
       " 0.8638930905095721,\n",
       " 0.9846971360584871,\n",
       " 0.9941649237152286,\n",
       " 0.9927996317223462]"
      ]
     },
     "execution_count": 5,
     "metadata": {},
     "output_type": "execute_result"
    }
   ],
   "source": [
    "x['conv2d']"
   ]
  }
 ],
 "metadata": {
  "kernelspec": {
   "display_name": "dl",
   "language": "python",
   "name": "python3"
  },
  "language_info": {
   "codemirror_mode": {
    "name": "ipython",
    "version": 3
   },
   "file_extension": ".py",
   "mimetype": "text/x-python",
   "name": "python",
   "nbconvert_exporter": "python",
   "pygments_lexer": "ipython3",
   "version": "3.10.8"
  },
  "orig_nbformat": 4,
  "vscode": {
   "interpreter": {
    "hash": "d86f111616862d19b4a31c0f57fe36c2d6f8663b0bf9b53456006ede2cf812e8"
   }
  }
 },
 "nbformat": 4,
 "nbformat_minor": 2
}
